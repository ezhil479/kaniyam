{
  "nbformat": 4,
  "nbformat_minor": 0,
  "metadata": {
    "colab": {
      "provenance": [],
      "authorship_tag": "ABX9TyNEj/hR92MqgF0Ripkeqf25",
      "include_colab_link": true
    },
    "kernelspec": {
      "name": "python3",
      "display_name": "Python 3"
    },
    "language_info": {
      "name": "python"
    }
  },
  "cells": [
    {
      "cell_type": "markdown",
      "metadata": {
        "id": "view-in-github",
        "colab_type": "text"
      },
      "source": [
        "<a href=\"https://colab.research.google.com/github/ezhil479/kaniyam/blob/main/list2.ipynb\" target=\"_parent\"><img src=\"https://colab.research.google.com/assets/colab-badge.svg\" alt=\"Open In Colab\"/></a>"
      ]
    },
    {
      "cell_type": "code",
      "execution_count": 2,
      "metadata": {
        "colab": {
          "base_uri": "https://localhost:8080/"
        },
        "id": "ehPH0GkQbNbS",
        "outputId": "af555b19-4b30-4ea2-96b0-7f6cb5f0ed53"
      },
      "outputs": [
        {
          "output_type": "stream",
          "name": "stdout",
          "text": [
            "Eraser\n"
          ]
        }
      ],
      "source": [
        "# 1. create list 5 delivery irems\n",
        "packages = [\"Notebook\",\"Pencil\",\"Eraser\",\"Ruler\",\"Marker\"]\n",
        "print(packages[2])"
      ]
    },
    {
      "cell_type": "code",
      "source": [
        "# 2. \"Glue stick\" - new delivery item added to the list\n",
        "packages.append(\"Glue stick\")\n",
        "print(packages)\n"
      ],
      "metadata": {
        "colab": {
          "base_uri": "https://localhost:8080/"
        },
        "id": "cHfcBhQwbp9y",
        "outputId": "31797b54-97ca-4ee9-9a30-a4e5949b36ae"
      },
      "execution_count": 3,
      "outputs": [
        {
          "output_type": "stream",
          "name": "stdout",
          "text": [
            "['Notebook', 'Pencil', 'Eraser', 'Ruler', 'Marker', 'Glue stick']\n"
          ]
        }
      ]
    },
    {
      "cell_type": "code",
      "source": [
        "# 3. Insert \"Highlighter\" b/w 2nd and 3rd items\n",
        "packages.insert(2,\"Glue Stick\")\n",
        "print(packages)"
      ],
      "metadata": {
        "colab": {
          "base_uri": "https://localhost:8080/"
        },
        "id": "sz3wlG3zbqDO",
        "outputId": "779c9944-05f8-4add-ff8b-3ab732abb767"
      },
      "execution_count": 4,
      "outputs": [
        {
          "output_type": "stream",
          "name": "stdout",
          "text": [
            "['Notebook', 'Pencil', 'Glue Stick', 'Eraser', 'Ruler', 'Marker', 'Glue stick']\n"
          ]
        }
      ]
    },
    {
      "cell_type": "code",
      "source": [
        "# 4. one delivery was canceled. remove ruler from the list\n",
        "packages.remove(\"Ruler\")\n",
        "print(packages)"
      ],
      "metadata": {
        "colab": {
          "base_uri": "https://localhost:8080/"
        },
        "id": "1o_0PagZbqKH",
        "outputId": "2291466e-f9e5-4536-f208-944c7b9a92d0"
      },
      "execution_count": 5,
      "outputs": [
        {
          "output_type": "stream",
          "name": "stdout",
          "text": [
            "['Notebook', 'Pencil', 'Glue Stick', 'Eraser', 'Marker', 'Glue stick']\n"
          ]
        }
      ]
    },
    {
      "cell_type": "code",
      "source": [
        "# 5. the delivery needs to delivery first three items. print the sublist containg only these three\n",
        "Sub_packages = packages[0:3]  # or [:3]\n",
        "print(Sub_packages)"
      ],
      "metadata": {
        "colab": {
          "base_uri": "https://localhost:8080/"
        },
        "id": "Kvc0EQrLbqPX",
        "outputId": "22d69b01-483c-4a81-df22-2b6b040dedee"
      },
      "execution_count": 8,
      "outputs": [
        {
          "output_type": "stream",
          "name": "stdout",
          "text": [
            "['Notebook', 'Pencil', 'Glue Stick']\n"
          ]
        }
      ]
    },
    {
      "cell_type": "code",
      "source": [
        "# 6. Check if 'marker' is still in the and print a message whether it is found\n",
        "packages\n",
        "if \"Marker\" in packages:\n",
        "  print(packages.index(\"Marker\"))\n"
      ],
      "metadata": {
        "colab": {
          "base_uri": "https://localhost:8080/"
        },
        "id": "HB5auyV5c90x",
        "outputId": "8fe6d597-2340-4071-8342-21d45b6ea361"
      },
      "execution_count": 14,
      "outputs": [
        {
          "output_type": "stream",
          "name": "stdout",
          "text": [
            "4\n"
          ]
        }
      ]
    },
    {
      "cell_type": "code",
      "source": [
        "# 7. Print the number of delivery items in the list\n",
        "len(packages)"
      ],
      "metadata": {
        "colab": {
          "base_uri": "https://localhost:8080/"
        },
        "id": "FUeA3qLtc94d",
        "outputId": "502b6af2-714b-4795-be4a-9dc8eab92d0e"
      },
      "execution_count": 17,
      "outputs": [
        {
          "output_type": "execute_result",
          "data": {
            "text/plain": [
              "6"
            ]
          },
          "metadata": {},
          "execution_count": 17
        }
      ]
    },
    {
      "cell_type": "code",
      "source": [
        "# 8.  sort the list of items in alphabetical and print sorted list.\n",
        "packages.sort()\n",
        "print(packages)"
      ],
      "metadata": {
        "colab": {
          "base_uri": "https://localhost:8080/"
        },
        "id": "BecBo63nfvwO",
        "outputId": "cdb1586d-ebc9-4794-abe0-1380b99379ba"
      },
      "execution_count": 21,
      "outputs": [
        {
          "output_type": "stream",
          "name": "stdout",
          "text": [
            "['Eraser', 'Glue Stick', 'Glue stick', 'Marker', 'Notebook', 'Pencil']\n"
          ]
        }
      ]
    },
    {
      "cell_type": "code",
      "source": [
        "packages.reverse()\n",
        "print(packages)"
      ],
      "metadata": {
        "colab": {
          "base_uri": "https://localhost:8080/"
        },
        "id": "Dj9QH39Bgyep",
        "outputId": "585c5e92-a7be-4ae9-bfda-ab807c4e2b80"
      },
      "execution_count": 22,
      "outputs": [
        {
          "output_type": "stream",
          "name": "stdout",
          "text": [
            "['Pencil', 'Notebook', 'Marker', 'Glue stick', 'Glue Stick', 'Eraser']\n"
          ]
        }
      ]
    },
    {
      "cell_type": "code",
      "source": [
        "duplicate_packages = [\"notebook\",\"box\",\"Highlighter\",\"Highlighter\",\"Eraser\",\"Marker\",\"Gluestick\"]\n",
        "\n",
        "duplicate_packages.count(\"Highlighter\")"
      ],
      "metadata": {
        "colab": {
          "base_uri": "https://localhost:8080/"
        },
        "id": "6XNfqov8fv1N",
        "outputId": "17c87aa4-32ce-4462-a288-4c98d7325da9"
      },
      "execution_count": 24,
      "outputs": [
        {
          "output_type": "execute_result",
          "data": {
            "text/plain": [
              "2"
            ]
          },
          "metadata": {},
          "execution_count": 24
        }
      ]
    },
    {
      "cell_type": "code",
      "source": [
        "# 9. create a list where each item is a list containing a delivery item and its delivery time\n",
        "#    Print the first item and its time\n"
      ],
      "metadata": {
        "id": "QFhD5-2Hfv7V"
      },
      "execution_count": null,
      "outputs": []
    },
    {
      "cell_type": "code",
      "source": [
        "# 10. Count how many times 'marker' appears in the list\n",
        "packages.count(\"Marker\")"
      ],
      "metadata": {
        "colab": {
          "base_uri": "https://localhost:8080/"
        },
        "id": "MjYtewqMc99P",
        "outputId": "eb253391-0cc4-4d15-bc49-8b149b7bc58f"
      },
      "execution_count": 26,
      "outputs": [
        {
          "output_type": "execute_result",
          "data": {
            "text/plain": [
              "1"
            ]
          },
          "metadata": {},
          "execution_count": 26
        }
      ]
    },
    {
      "cell_type": "code",
      "source": [
        "packages.count('box')"
      ],
      "metadata": {
        "colab": {
          "base_uri": "https://localhost:8080/"
        },
        "id": "lrt4QGdhc-Bw",
        "outputId": "b7da1823-7580-413f-d84b-b406c8d90ba3"
      },
      "execution_count": 27,
      "outputs": [
        {
          "output_type": "execute_result",
          "data": {
            "text/plain": [
              "0"
            ]
          },
          "metadata": {},
          "execution_count": 27
        }
      ]
    },
    {
      "cell_type": "code",
      "source": [
        "# 11. find the index of the list 'pencil'\n",
        "packages.index('Pencil')\n"
      ],
      "metadata": {
        "colab": {
          "base_uri": "https://localhost:8080/"
        },
        "id": "Ub7_5Hl-c-Fu",
        "outputId": "1be2f0de-ca85-4ae0-fa6b-f3064c46bd88"
      },
      "execution_count": 28,
      "outputs": [
        {
          "output_type": "execute_result",
          "data": {
            "text/plain": [
              "0"
            ]
          },
          "metadata": {},
          "execution_count": 28
        }
      ]
    },
    {
      "cell_type": "code",
      "source": [
        "# 12. Extend the list items with another list of new delivery items and print the updated list.\n",
        "Packages2 = [\"Pencil\",\"Notebook\",\"Marker\",\"Highlighter\",\"Glue Stick\",\"Erasrer\",\"Ruler\"]\n",
        "\n",
        "new_packages = [\"laptop\",\"mouse\",\"Pen drive\"]"
      ],
      "metadata": {
        "id": "vHLLxzPDizaZ"
      },
      "execution_count": 35,
      "outputs": []
    },
    {
      "cell_type": "code",
      "source": [
        "Packages2.extend(new_packages)"
      ],
      "metadata": {
        "id": "vjELRd0oizeK"
      },
      "execution_count": 36,
      "outputs": []
    },
    {
      "cell_type": "code",
      "source": [
        "print(Packages2)"
      ],
      "metadata": {
        "colab": {
          "base_uri": "https://localhost:8080/"
        },
        "id": "wfyT_NLYizh8",
        "outputId": "d6e6346e-9520-4ea1-fbaf-a729e08a89fe"
      },
      "execution_count": 37,
      "outputs": [
        {
          "output_type": "stream",
          "name": "stdout",
          "text": [
            "['Pencil', 'Notebook', 'Marker', 'Highlighter', 'Glue Stick', 'Erasrer', 'Ruler', 'laptop', 'mouse', 'Pen drive']\n"
          ]
        }
      ]
    },
    {
      "cell_type": "code",
      "source": [
        "for item in new_packages:\n",
        "  Packages2.append(item)\n",
        "print(Packages2)"
      ],
      "metadata": {
        "colab": {
          "base_uri": "https://localhost:8080/"
        },
        "id": "V6AV-iBSizl7",
        "outputId": "6dbc19f5-8e83-4af2-fa83-b5d29037c28a"
      },
      "execution_count": 38,
      "outputs": [
        {
          "output_type": "stream",
          "name": "stdout",
          "text": [
            "['Pencil', 'Notebook', 'Marker', 'Highlighter', 'Glue Stick', 'Erasrer', 'Ruler', 'laptop', 'mouse', 'Pen drive', 'laptop', 'mouse', 'Pen drive']\n"
          ]
        }
      ]
    },
    {
      "cell_type": "code",
      "source": [
        "# difference b/w append and extend\n",
        "Packages2.append(new_packages)\n",
        "print(Packages2)"
      ],
      "metadata": {
        "colab": {
          "base_uri": "https://localhost:8080/"
        },
        "id": "4r5xlp-Wk297",
        "outputId": "ade8f2fd-29e8-4614-adf0-a8f5563e6bfd"
      },
      "execution_count": 40,
      "outputs": [
        {
          "output_type": "stream",
          "name": "stdout",
          "text": [
            "['Pencil', 'Notebook', 'Marker', 'Highlighter', 'Glue Stick', 'Erasrer', 'Ruler', 'laptop', 'mouse', 'Pen drive', 'laptop', 'mouse', 'Pen drive', ['laptop', 'mouse', 'Pen drive'], ['laptop', 'mouse', 'Pen drive']]\n"
          ]
        }
      ]
    },
    {
      "cell_type": "code",
      "source": [
        "dir(\"abcd\")"
      ],
      "metadata": {
        "colab": {
          "base_uri": "https://localhost:8080/"
        },
        "id": "v4Y9d5MWk3Ci",
        "outputId": "852c17ea-b4f8-4896-da35-42f3acae0f19"
      },
      "execution_count": 41,
      "outputs": [
        {
          "output_type": "execute_result",
          "data": {
            "text/plain": [
              "['__add__',\n",
              " '__class__',\n",
              " '__contains__',\n",
              " '__delattr__',\n",
              " '__dir__',\n",
              " '__doc__',\n",
              " '__eq__',\n",
              " '__format__',\n",
              " '__ge__',\n",
              " '__getattribute__',\n",
              " '__getitem__',\n",
              " '__getnewargs__',\n",
              " '__gt__',\n",
              " '__hash__',\n",
              " '__init__',\n",
              " '__init_subclass__',\n",
              " '__iter__',\n",
              " '__le__',\n",
              " '__len__',\n",
              " '__lt__',\n",
              " '__mod__',\n",
              " '__mul__',\n",
              " '__ne__',\n",
              " '__new__',\n",
              " '__reduce__',\n",
              " '__reduce_ex__',\n",
              " '__repr__',\n",
              " '__rmod__',\n",
              " '__rmul__',\n",
              " '__setattr__',\n",
              " '__sizeof__',\n",
              " '__str__',\n",
              " '__subclasshook__',\n",
              " 'capitalize',\n",
              " 'casefold',\n",
              " 'center',\n",
              " 'count',\n",
              " 'encode',\n",
              " 'endswith',\n",
              " 'expandtabs',\n",
              " 'find',\n",
              " 'format',\n",
              " 'format_map',\n",
              " 'index',\n",
              " 'isalnum',\n",
              " 'isalpha',\n",
              " 'isascii',\n",
              " 'isdecimal',\n",
              " 'isdigit',\n",
              " 'isidentifier',\n",
              " 'islower',\n",
              " 'isnumeric',\n",
              " 'isprintable',\n",
              " 'isspace',\n",
              " 'istitle',\n",
              " 'isupper',\n",
              " 'join',\n",
              " 'ljust',\n",
              " 'lower',\n",
              " 'lstrip',\n",
              " 'maketrans',\n",
              " 'partition',\n",
              " 'removeprefix',\n",
              " 'removesuffix',\n",
              " 'replace',\n",
              " 'rfind',\n",
              " 'rindex',\n",
              " 'rjust',\n",
              " 'rpartition',\n",
              " 'rsplit',\n",
              " 'rstrip',\n",
              " 'split',\n",
              " 'splitlines',\n",
              " 'startswith',\n",
              " 'strip',\n",
              " 'swapcase',\n",
              " 'title',\n",
              " 'translate',\n",
              " 'upper',\n",
              " 'zfill']"
            ]
          },
          "metadata": {},
          "execution_count": 41
        }
      ]
    },
    {
      "cell_type": "code",
      "source": [
        "# 13. clear the all delivery items print the list\n",
        "packages.clear()\n",
        "print(packages)"
      ],
      "metadata": {
        "colab": {
          "base_uri": "https://localhost:8080/"
        },
        "id": "6LKgWCpek3Hf",
        "outputId": "3c6c564d-82bb-4a4b-fd81-ca3e57dc516d"
      },
      "execution_count": 43,
      "outputs": [
        {
          "output_type": "stream",
          "name": "stdout",
          "text": [
            "[]\n"
          ]
        }
      ]
    },
    {
      "cell_type": "code",
      "source": [
        "# 14. Create a list with the item \"Notebook\" repeated three items and print the list\n",
        "packages = [\"Notebook\",\"Notebook\",\"Notebook\",\"Pencil\"]"
      ],
      "metadata": {
        "id": "s1ktVIMLk3Lu"
      },
      "execution_count": 45,
      "outputs": []
    },
    {
      "cell_type": "code",
      "source": [
        "# 15. filter the list to include only items that contain the letter \"e\" and print the filtered list.\n",
        "list_packages = ['Pencil', 'Notebook', 'Marker', 'Highlighter', 'Glue Stick', 'Erasrer', 'Ruler', 'laptop', 'mouse', 'Pen drive', 'laptop']"
      ],
      "metadata": {
        "id": "BodVixYpk3Pz"
      },
      "execution_count": 46,
      "outputs": []
    },
    {
      "cell_type": "code",
      "source": [
        "filtered_list = []\n",
        "for  item in list_packages:\n",
        "  if 'e' in item:\n",
        "    filtered_list.append(item)"
      ],
      "metadata": {
        "id": "OvqIUJ4sk3Ts"
      },
      "execution_count": 47,
      "outputs": []
    },
    {
      "cell_type": "code",
      "source": [
        "print(filtered_list)"
      ],
      "metadata": {
        "colab": {
          "base_uri": "https://localhost:8080/"
        },
        "id": "AubSlTXMk3Xi",
        "outputId": "2ad2e5ac-06bc-49fa-d342-c54ec519eb4a"
      },
      "execution_count": 48,
      "outputs": [
        {
          "output_type": "stream",
          "name": "stdout",
          "text": [
            "['Pencil', 'Notebook', 'Marker', 'Highlighter', 'Glue Stick', 'Erasrer', 'Ruler', 'mouse', 'Pen drive']\n"
          ]
        }
      ]
    },
    {
      "cell_type": "code",
      "source": [
        "# remove duplicate items from the list\n",
        "pack = ['Pencil', 'Notebook', 'Marker', 'Highlighter', 'Glue Stick', 'Erasrer', 'Ruler', 'mouse', 'Pen drive','Pencil', 'Notebook', 'Marker']\n"
      ],
      "metadata": {
        "id": "kkiFE9D3k3sE"
      },
      "execution_count": 50,
      "outputs": []
    },
    {
      "cell_type": "code",
      "source": [
        "for item in pack:\n",
        "  if pack.count(item) > 1:\n",
        "    pack.remove(item)\n",
        "print(pack)"
      ],
      "metadata": {
        "colab": {
          "base_uri": "https://localhost:8080/"
        },
        "id": "8BbTKzqOpCQG",
        "outputId": "91d3e2f2-4c84-49c9-bd63-6a1665ebe87b"
      },
      "execution_count": 51,
      "outputs": [
        {
          "output_type": "stream",
          "name": "stdout",
          "text": [
            "['Highlighter', 'Glue Stick', 'Erasrer', 'Ruler', 'mouse', 'Pen drive', 'Pencil', 'Notebook', 'Marker']\n"
          ]
        }
      ]
    },
    {
      "cell_type": "code",
      "source": [
        "pack = ['Pencil', 'Notebook', 'Marker', 'Highlighter', 'Glue Stick', 'Erasrer', 'Ruler', 'mouse', 'Pen drive','Pencil', 'Notebook', 'Marker']\n",
        "list(set(pack))"
      ],
      "metadata": {
        "colab": {
          "base_uri": "https://localhost:8080/"
        },
        "id": "4zkZLxpzpCW4",
        "outputId": "9079081c-1712-4986-e529-b5e610e42257"
      },
      "execution_count": 52,
      "outputs": [
        {
          "output_type": "execute_result",
          "data": {
            "text/plain": [
              "['Notebook',\n",
              " 'Erasrer',\n",
              " 'Highlighter',\n",
              " 'Ruler',\n",
              " 'Marker',\n",
              " 'Pencil',\n",
              " 'mouse',\n",
              " 'Pen drive',\n",
              " 'Glue Stick']"
            ]
          },
          "metadata": {},
          "execution_count": 52
        }
      ]
    },
    {
      "cell_type": "code",
      "source": [],
      "metadata": {
        "id": "yBw04ysdpCcR"
      },
      "execution_count": null,
      "outputs": []
    }
  ]
}