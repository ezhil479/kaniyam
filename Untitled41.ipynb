{
  "nbformat": 4,
  "nbformat_minor": 0,
  "metadata": {
    "colab": {
      "provenance": [],
      "authorship_tag": "ABX9TyM6hrfpd1xV9znxopF62sEA",
      "include_colab_link": true
    },
    "kernelspec": {
      "name": "python3",
      "display_name": "Python 3"
    },
    "language_info": {
      "name": "python"
    }
  },
  "cells": [
    {
      "cell_type": "markdown",
      "metadata": {
        "id": "view-in-github",
        "colab_type": "text"
      },
      "source": [
        "<a href=\"https://colab.research.google.com/github/ezhil479/kaniyam/blob/main/Untitled41.ipynb\" target=\"_parent\"><img src=\"https://colab.research.google.com/assets/colab-badge.svg\" alt=\"Open In Colab\"/></a>"
      ]
    },
    {
      "cell_type": "code",
      "execution_count": null,
      "metadata": {
        "id": "3E7aju_Zi3G_"
      },
      "outputs": [],
      "source": [
        "# pattern print\n",
        "# 1. row size\n",
        "# 2. putting together nested loops\n"
      ]
    },
    {
      "cell_type": "code",
      "source": [
        "# ex:\n",
        "n=5\n",
        "print('*'*n)"
      ],
      "metadata": {
        "colab": {
          "base_uri": "https://localhost:8080/"
        },
        "id": "YIiiFSmRj8Lo",
        "outputId": "dea6d7bd-209b-4a31-d828-2da95397a308"
      },
      "execution_count": 1,
      "outputs": [
        {
          "output_type": "stream",
          "name": "stdout",
          "text": [
            "*****\n"
          ]
        }
      ]
    },
    {
      "cell_type": "code",
      "source": [
        "n=5\n",
        "for j in range(n):\n",
        "  print('*')"
      ],
      "metadata": {
        "colab": {
          "base_uri": "https://localhost:8080/"
        },
        "id": "INTr2YNQj8R4",
        "outputId": "536417ba-c154-40fa-cc35-41d765119cb1"
      },
      "execution_count": 2,
      "outputs": [
        {
          "output_type": "stream",
          "name": "stdout",
          "text": [
            "*\n",
            "*\n",
            "*\n",
            "*\n",
            "*\n"
          ]
        }
      ]
    },
    {
      "cell_type": "code",
      "source": [
        "n=5\n",
        "for j in range(n):\n",
        "  print('*', end=\"\")"
      ],
      "metadata": {
        "colab": {
          "base_uri": "https://localhost:8080/"
        },
        "id": "84XBeLzGkPbY",
        "outputId": "08c16824-0ca3-49bb-8fe4-64e2e595cbc9"
      },
      "execution_count": 3,
      "outputs": [
        {
          "output_type": "stream",
          "name": "stdout",
          "text": [
            "*****"
          ]
        }
      ]
    },
    {
      "cell_type": "code",
      "source": [
        "n=5\n",
        "for i in range(n):\n",
        "  for j in range(i):\n",
        "    print('*', end='')\n",
        "  print()\n"
      ],
      "metadata": {
        "colab": {
          "base_uri": "https://localhost:8080/"
        },
        "id": "h82fy-oLkPf8",
        "outputId": "6a3b2ed9-6dbc-4d4a-e723-e5aec6c9b38e"
      },
      "execution_count": 4,
      "outputs": [
        {
          "output_type": "stream",
          "name": "stdout",
          "text": [
            "\n",
            "*\n",
            "**\n",
            "***\n",
            "****\n"
          ]
        }
      ]
    },
    {
      "cell_type": "code",
      "source": [
        "n=5\n",
        "for i in range(n):\n",
        "  for j in range(n):\n",
        "    print('*',end=\"\")\n",
        "  print()"
      ],
      "metadata": {
        "colab": {
          "base_uri": "https://localhost:8080/"
        },
        "id": "s4viEiqCkPle",
        "outputId": "5a499885-e121-4f45-9c15-c876b560d2c1"
      },
      "execution_count": 5,
      "outputs": [
        {
          "output_type": "stream",
          "name": "stdout",
          "text": [
            "*****\n",
            "*****\n",
            "*****\n",
            "*****\n",
            "*****\n"
          ]
        }
      ]
    },
    {
      "cell_type": "code",
      "source": [
        "n=5\n",
        "for i in range(n):\n",
        "  for j in range(n):\n",
        "    print('*',end=\" \")\n",
        "  print()"
      ],
      "metadata": {
        "colab": {
          "base_uri": "https://localhost:8080/"
        },
        "id": "JCPS690CkPrg",
        "outputId": "b9fe1414-ba15-4431-bf1d-066b82a3de93"
      },
      "execution_count": 6,
      "outputs": [
        {
          "output_type": "stream",
          "name": "stdout",
          "text": [
            "* * * * * \n",
            "* * * * * \n",
            "* * * * * \n",
            "* * * * * \n",
            "* * * * * \n"
          ]
        }
      ]
    },
    {
      "cell_type": "code",
      "source": [
        "n=5\n",
        "for i in range(n):\n",
        "  for j in range(i) :\n",
        "    print('*',end=' ')\n",
        "  print()"
      ],
      "metadata": {
        "colab": {
          "base_uri": "https://localhost:8080/"
        },
        "id": "26o_h_IikPxd",
        "outputId": "832506f2-f786-4878-ac77-c4c4e46e0994"
      },
      "execution_count": 8,
      "outputs": [
        {
          "output_type": "stream",
          "name": "stdout",
          "text": [
            "\n",
            "* \n",
            "* * \n",
            "* * * \n",
            "* * * * \n"
          ]
        }
      ]
    },
    {
      "cell_type": "code",
      "source": [
        "n=5\n",
        "for i in range(n):\n",
        "  for j in range(i+1) :\n",
        "    print('*',end=' ')\n",
        "  print()"
      ],
      "metadata": {
        "colab": {
          "base_uri": "https://localhost:8080/"
        },
        "id": "GTT_43cylwzQ",
        "outputId": "aeebfcec-6fab-42f8-f1cd-3270808a3244"
      },
      "execution_count": 9,
      "outputs": [
        {
          "output_type": "stream",
          "name": "stdout",
          "text": [
            "* \n",
            "* * \n",
            "* * * \n",
            "* * * * \n",
            "* * * * * \n"
          ]
        }
      ]
    },
    {
      "cell_type": "code",
      "source": [
        "# reverse\n",
        "n=5\n",
        "for i in range(n):\n",
        "  for j in range(i, n) :\n",
        "    print('*',end=' ')\n",
        "  print()"
      ],
      "metadata": {
        "colab": {
          "base_uri": "https://localhost:8080/"
        },
        "id": "kudB4xVhlw3m",
        "outputId": "d3c8d493-8a2f-47c4-b625-ca0059dad917"
      },
      "execution_count": 14,
      "outputs": [
        {
          "output_type": "stream",
          "name": "stdout",
          "text": [
            "* * * * * \n",
            "* * * * \n",
            "* * * \n",
            "* * \n",
            "* \n"
          ]
        }
      ]
    },
    {
      "cell_type": "code",
      "source": [
        "# one - increasing pattern of space and other increasing pattern of *\n",
        "\n",
        "n=5\n",
        "for i in range(n):\n",
        "  for j in range(i,n):\n",
        "    print('', end=\"\")\n",
        "  for j in range(i+1)  :\n",
        "    print(\"*\",end=\"\")\n",
        "  print()"
      ],
      "metadata": {
        "colab": {
          "base_uri": "https://localhost:8080/"
        },
        "id": "Hc60Ej09lw7f",
        "outputId": "3f67afde-b9af-4b9a-d8bd-1200ad1ee6e3"
      },
      "execution_count": 16,
      "outputs": [
        {
          "output_type": "stream",
          "name": "stdout",
          "text": [
            "*\n",
            "**\n",
            "***\n",
            "****\n",
            "*****\n"
          ]
        }
      ]
    },
    {
      "cell_type": "code",
      "source": [
        "# right side triangle\n",
        "# 1. decreasing space\n",
        "#2. increasing *\n",
        "\n",
        "n=5\n",
        "for i in range(n):\n",
        "  for j in range(i,n):\n",
        "    print(' ', end=\" \")\n",
        "  for j in range(i+1)  :\n",
        "    print(\"*\",end=\" \")\n",
        "  print()"
      ],
      "metadata": {
        "colab": {
          "base_uri": "https://localhost:8080/"
        },
        "id": "8cktam3Yn8dq",
        "outputId": "5e58268c-7a02-4994-99c0-1b798c8a4c22"
      },
      "execution_count": 23,
      "outputs": [
        {
          "output_type": "stream",
          "name": "stdout",
          "text": [
            "          * \n",
            "        * * \n",
            "      * * * \n",
            "    * * * * \n",
            "  * * * * * \n"
          ]
        }
      ]
    },
    {
      "cell_type": "code",
      "source": [
        "# left side triangle\n",
        "# 1. * decreasing\n",
        "# 2. space increasing\n",
        "\n",
        "n=5\n",
        "for i in range(n):\n",
        "  for j in range(i+1):\n",
        "    print(\" \",end=' ')\n",
        "  for j in range(i,n):\n",
        "    print(\"*\",end=\" \")\n",
        "  print()"
      ],
      "metadata": {
        "colab": {
          "base_uri": "https://localhost:8080/"
        },
        "id": "k4Pe1O28ogyL",
        "outputId": "9434ef87-5a09-40d6-c9ff-0cd675ad8c23"
      },
      "execution_count": 29,
      "outputs": [
        {
          "output_type": "stream",
          "name": "stdout",
          "text": [
            "  * * * * * \n",
            "    * * * * \n",
            "      * * * \n",
            "        * * \n",
            "          * \n"
          ]
        }
      ]
    },
    {
      "cell_type": "code",
      "source": [
        "# hill pattern\n",
        "n=5\n",
        "for i in range(n):\n",
        "  for j in range(i,n) :\n",
        "    print(' ',end=\" \")\n",
        "  for j in range(i+1):\n",
        "    print(\"*\",end=\" \")\n",
        "\n",
        "  for j in range(i+1):\n",
        "    print('*',end=' ')\n",
        "  print()"
      ],
      "metadata": {
        "colab": {
          "base_uri": "https://localhost:8080/"
        },
        "id": "ggpD5IIFqkrF",
        "outputId": "5207d79c-d874-48a0-e7ef-cf16d1068f40"
      },
      "execution_count": 34,
      "outputs": [
        {
          "output_type": "stream",
          "name": "stdout",
          "text": [
            "          * * \n",
            "        * * * * \n",
            "      * * * * * * \n",
            "    * * * * * * * * \n",
            "  * * * * * * * * * * \n"
          ]
        }
      ]
    },
    {
      "cell_type": "code",
      "source": [
        "# hill pattern\n",
        "n=5\n",
        "for i in range(n):\n",
        "  for j in range(i,n) :\n",
        "    print(' ',end=\" \")\n",
        "  for j in range(i):\n",
        "    print(\"*\",end=\" \")\n",
        "\n",
        "  for j in range(i+1):\n",
        "    print('*',end=' ')\n",
        "  print()"
      ],
      "metadata": {
        "colab": {
          "base_uri": "https://localhost:8080/"
        },
        "id": "Dr3WsqRCtIY3",
        "outputId": "89ed80fa-368b-4fa7-8e73-9e0f6232a323"
      },
      "execution_count": 40,
      "outputs": [
        {
          "output_type": "stream",
          "name": "stdout",
          "text": [
            "          * \n",
            "        * * * \n",
            "      * * * * * \n",
            "    * * * * * * * \n",
            "  * * * * * * * * * \n"
          ]
        }
      ]
    },
    {
      "cell_type": "code",
      "source": [
        "# hill reverse pattern\n",
        "\n",
        "n=5\n",
        "for i in range(n):\n",
        "  for j in range(i+1):\n",
        "    print(' ',end=\" \")\n",
        "  for j in range(i,n)  :\n",
        "    print('*',end=\" \")\n",
        "  for j in range(i,n)  :\n",
        "    print(\"*\",end=\" \")\n",
        "  print()"
      ],
      "metadata": {
        "colab": {
          "base_uri": "https://localhost:8080/"
        },
        "id": "umPBTIdVsBKx",
        "outputId": "988d85fd-39af-4777-e789-f2eb8af00534"
      },
      "execution_count": 38,
      "outputs": [
        {
          "output_type": "stream",
          "name": "stdout",
          "text": [
            "  * * * * * * * * * * \n",
            "    * * * * * * * * \n",
            "      * * * * * * \n",
            "        * * * * \n",
            "          * * \n"
          ]
        }
      ]
    },
    {
      "cell_type": "code",
      "source": [
        "n=5\n",
        "for i in range(n):\n",
        "  for j in range(i+1):\n",
        "    print(' ',end=\" \")\n",
        "  for j in range(i,n-1)  :\n",
        "    print('*',end=\" \")\n",
        "  for j in range(i,n)  :\n",
        "    print(\"*\",end=\" \")\n",
        "  print()"
      ],
      "metadata": {
        "colab": {
          "base_uri": "https://localhost:8080/"
        },
        "id": "06yR3wK4s-US",
        "outputId": "e69c809a-c73b-45ed-c635-308c21481603"
      },
      "execution_count": 41,
      "outputs": [
        {
          "output_type": "stream",
          "name": "stdout",
          "text": [
            "  * * * * * * * * * \n",
            "    * * * * * * * \n",
            "      * * * * * \n",
            "        * * * \n",
            "          * \n"
          ]
        }
      ]
    },
    {
      "cell_type": "code",
      "source": [
        "# diamond pattern\n",
        "\n",
        "n=5\n",
        "for i in range(n):\n",
        "  for j in range(i,n):\n",
        "    print(' ',end=' ')\n",
        "  for j in range(i)  :\n",
        "    print('*', end=\" \")\n",
        "  for j in range(i+1)  :\n",
        "    print(\"*\", end=\" \")\n",
        "  print()\n",
        "for i in range(n)  :\n",
        "  for j in range(i+1):\n",
        "    print(' ',end=\" \")\n",
        "  for j in range(i,n-1)  :\n",
        "    print(\"*\", end=\" \")\n",
        "  for j in range(i,n)  :\n",
        "    print(\"*\", end=\" \")\n",
        "  print()"
      ],
      "metadata": {
        "colab": {
          "base_uri": "https://localhost:8080/"
        },
        "id": "aajNvjyHtsyW",
        "outputId": "1d911177-1df5-4c99-aafd-9142431f4551"
      },
      "execution_count": 51,
      "outputs": [
        {
          "output_type": "stream",
          "name": "stdout",
          "text": [
            "          * \n",
            "        * * * \n",
            "      * * * * * \n",
            "    * * * * * * * \n",
            "  * * * * * * * * * \n",
            "  * * * * * * * * * \n",
            "    * * * * * * * \n",
            "      * * * * * \n",
            "        * * * \n"
          ]
        }
      ]
    },
    {
      "cell_type": "code",
      "source": [
        "# diamond pattern\n",
        "\n",
        "n=5\n",
        "for i in range(n-1):\n",
        "  for j in range(i,n):\n",
        "    print(' ',end=' ')\n",
        "  for j in range(i)  :\n",
        "    print('*', end=\" \")\n",
        "  for j in range(i+1)  :\n",
        "    print(\"*\", end=\" \")\n",
        "  print()\n",
        "for i in range(n)  :\n",
        "  for j in range(i+1):\n",
        "    print(' ',end=\" \")\n",
        "  for j in range(i,n-1)  :\n",
        "    print(\"*\", end=\" \")\n",
        "  for j in range(i,n)  :\n",
        "    print(\"*\", end=\" \")\n",
        "  print()"
      ],
      "metadata": {
        "colab": {
          "base_uri": "https://localhost:8080/"
        },
        "id": "qy1LKc4wwH1S",
        "outputId": "c915eaa3-23f4-4c4f-d4f7-a3fba7c126e4"
      },
      "execution_count": 52,
      "outputs": [
        {
          "output_type": "stream",
          "name": "stdout",
          "text": [
            "          * \n",
            "        * * * \n",
            "      * * * * * \n",
            "    * * * * * * * \n",
            "  * * * * * * * * * \n",
            "    * * * * * * * \n",
            "      * * * * * \n",
            "        * * * \n",
            "          * \n"
          ]
        }
      ]
    }
  ]
}