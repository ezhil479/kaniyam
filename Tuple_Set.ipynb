{
  "nbformat": 4,
  "nbformat_minor": 0,
  "metadata": {
    "colab": {
      "provenance": [],
      "authorship_tag": "ABX9TyMEO0NgWfjLHHqncy7usk8v",
      "include_colab_link": true
    },
    "kernelspec": {
      "name": "python3",
      "display_name": "Python 3"
    },
    "language_info": {
      "name": "python"
    }
  },
  "cells": [
    {
      "cell_type": "markdown",
      "metadata": {
        "id": "view-in-github",
        "colab_type": "text"
      },
      "source": [
        "<a href=\"https://colab.research.google.com/github/ezhil479/kaniyam/blob/main/Tuple_Set.ipynb\" target=\"_parent\"><img src=\"https://colab.research.google.com/assets/colab-badge.svg\" alt=\"Open In Colab\"/></a>"
      ]
    },
    {
      "cell_type": "markdown",
      "source": [
        "One sunny morning, the adventurous family decides to document their recent trips. They open their magical photo album and start adding new snapshots."
      ],
      "metadata": {
        "id": "ALBZY6f9EJYg"
      }
    },
    {
      "cell_type": "markdown",
      "source": [
        "Creatin Snapshots"
      ],
      "metadata": {
        "id": "N4yk0EWTIEBu"
      }
    },
    {
      "cell_type": "code",
      "source": [
        "# Snapshots of the family's adventures\n",
        "   # place date description\n",
        "ooty_trip = (\"Ooty\", \"2024-1-1\", \"Botanical Garden\")\n",
        "munnar_trip = (\"munnar\", \"2024-06-06\", \"Eravikulam National Park\")\n",
        "manjolai_trip = (\"Manjolai\", \"2024-06-09\", \"Hills station\")\n",
        "\n",
        "print(\"Ooty Trip\", ooty_trip , \"Type is: \", type(ooty_trip))"
      ],
      "metadata": {
        "colab": {
          "base_uri": "https://localhost:8080/"
        },
        "id": "1Ek4QIgOIEGI",
        "outputId": "94d41a64-f27d-4e33-d73a-5a42d6d24737"
      },
      "execution_count": 2,
      "outputs": [
        {
          "output_type": "stream",
          "name": "stdout",
          "text": [
            "Ooty Trip ('Ooty', '2024-1-1', 'Botanical Garden') Type is:  <class 'tuple'>\n"
          ]
        }
      ]
    },
    {
      "cell_type": "code",
      "source": [
        "photo_album = [ooty_trip, munnar_trip, manjolai_trip]\n",
        "print(photo_album)"
      ],
      "metadata": {
        "colab": {
          "base_uri": "https://localhost:8080/"
        },
        "id": "N30LO5BGIEKP",
        "outputId": "2a20dbe8-2acb-4b65-a391-197921e5556e"
      },
      "execution_count": 3,
      "outputs": [
        {
          "output_type": "stream",
          "name": "stdout",
          "text": [
            "[('Ooty', '2024-1-1', 'Botanical Garden'), ('munnar', '2024-06-06', 'Eravikulam National Park'), ('Manjolai', '2024-06-09', 'Hills station')]\n"
          ]
        }
      ]
    },
    {
      "cell_type": "code",
      "source": [
        "print(type(photo_album))"
      ],
      "metadata": {
        "id": "IwZsj7N8IEOQ"
      },
      "execution_count": null,
      "outputs": []
    },
    {
      "cell_type": "markdown",
      "source": [
        "Noon : Recalling memories"
      ],
      "metadata": {
        "id": "96F0znAjIEW6"
      }
    },
    {
      "cell_type": "markdown",
      "source": [
        "At noon, the family gathers around the table and starts recalling details of their ooty trip"
      ],
      "metadata": {
        "id": "Lg5xar0NIEb3"
      }
    },
    {
      "cell_type": "markdown",
      "source": [
        "Accessing Elements:\n",
        "Location: Ooty, Date: 2024-07-01, Description: visited botanical garden"
      ],
      "metadata": {
        "id": "L9U7hja2KCKC"
      }
    },
    {
      "cell_type": "code",
      "source": [
        "# Accessing elements in a tuple\n",
        "print(ooty_trip)"
      ],
      "metadata": {
        "colab": {
          "base_uri": "https://localhost:8080/"
        },
        "id": "bMl0SRhoKCOK",
        "outputId": "04e3bf46-f57d-4852-b026-78c0db738bea"
      },
      "execution_count": 5,
      "outputs": [
        {
          "output_type": "stream",
          "name": "stdout",
          "text": [
            "('Ooty', '2024-1-1', 'Botanical Garden')\n"
          ]
        }
      ]
    },
    {
      "cell_type": "code",
      "source": [
        "Location = ooty_trip[0]\n",
        "date = ooty_trip[1]\n",
        "description = ooty_trip[2]\n",
        "\n",
        "print(\"Location: \", Location)\n",
        "print(\"Date: \", date)\n",
        "print(\"Description: \", description)"
      ],
      "metadata": {
        "colab": {
          "base_uri": "https://localhost:8080/"
        },
        "id": "14Zkg7XgKCR1",
        "outputId": "8d5f3e1a-82c6-46f3-ed50-6c4a17689d71"
      },
      "execution_count": 7,
      "outputs": [
        {
          "output_type": "stream",
          "name": "stdout",
          "text": [
            "Location:  Ooty\n",
            "Date:  2024-1-1\n",
            "Description:  Botanical Garden\n"
          ]
        }
      ]
    },
    {
      "cell_type": "markdown",
      "source": [
        "Afternoon: sharing stories\n",
        "In the afternoon, they decide to share the details of the munnar trip\n",
        "by unpacking the snapshot into separeate parts"
      ],
      "metadata": {
        "id": "qGGLe0t_KCV4"
      }
    },
    {
      "cell_type": "markdown",
      "source": [
        "Unpacking tuples"
      ],
      "metadata": {
        "id": "FYiXpwY9KCZn"
      }
    },
    {
      "cell_type": "code",
      "source": [
        "print(munnar_trip )"
      ],
      "metadata": {
        "colab": {
          "base_uri": "https://localhost:8080/"
        },
        "id": "YEBf5vltKCdS",
        "outputId": "09cb4b4b-8057-4eef-d015-1af0ac9ff700"
      },
      "execution_count": 8,
      "outputs": [
        {
          "output_type": "stream",
          "name": "stdout",
          "text": [
            "('munnar', '2024-06-06', 'Eravikulam National Park')\n"
          ]
        }
      ]
    },
    {
      "cell_type": "code",
      "source": [
        "name, age = \"ezhil\", 32\n",
        "print(name, age)"
      ],
      "metadata": {
        "colab": {
          "base_uri": "https://localhost:8080/"
        },
        "id": "-HtntO6fKChJ",
        "outputId": "e9b87acc-3c59-4294-91b4-bd2f4a802292"
      },
      "execution_count": 9,
      "outputs": [
        {
          "output_type": "stream",
          "name": "stdout",
          "text": [
            "ezhil 32\n"
          ]
        }
      ]
    },
    {
      "cell_type": "code",
      "source": [
        "name = \"ezhila\",32\n",
        "print(name)"
      ],
      "metadata": {
        "colab": {
          "base_uri": "https://localhost:8080/"
        },
        "id": "IVIJrzC6KCkt",
        "outputId": "11a19c48-9265-4723-a58c-b426b924a3e0"
      },
      "execution_count": 11,
      "outputs": [
        {
          "output_type": "stream",
          "name": "stdout",
          "text": [
            "('ezhila', 32)\n"
          ]
        }
      ]
    },
    {
      "cell_type": "code",
      "source": [
        "location, date, description = munnar_trip\n",
        "print(\"Location: \", location)\n",
        "print(\"Date: \", date)\n",
        "print(\"description: \", description)"
      ],
      "metadata": {
        "colab": {
          "base_uri": "https://localhost:8080/"
        },
        "id": "ilrvjsZMKCpN",
        "outputId": "a93becf8-0c2f-4e31-f2bd-6015066b0348"
      },
      "execution_count": 12,
      "outputs": [
        {
          "output_type": "stream",
          "name": "stdout",
          "text": [
            "Location:  munnar\n",
            "Date:  2024-06-06\n",
            "description:  Eravikulam National Park\n"
          ]
        }
      ]
    },
    {
      "cell_type": "markdown",
      "source": [
        "After some time: they decided to change the value of an ooty trip"
      ],
      "metadata": {
        "id": "z6gur1zZKCs6"
      }
    },
    {
      "cell_type": "code",
      "source": [
        "print(ooty_trip)"
      ],
      "metadata": {
        "colab": {
          "base_uri": "https://localhost:8080/"
        },
        "id": "ym7gLhe_MXkC",
        "outputId": "c4b3eb1a-7597-470b-a573-1948bf02676b"
      },
      "execution_count": 14,
      "outputs": [
        {
          "output_type": "stream",
          "name": "stdout",
          "text": [
            "('Ooty', '2024-1-1', 'Botanical Garden')\n"
          ]
        }
      ]
    },
    {
      "cell_type": "code",
      "source": [
        "# tuple is immutable\n",
        "ooty_trip[2]  = \"Doddabetta\""
      ],
      "metadata": {
        "colab": {
          "base_uri": "https://localhost:8080/",
          "height": 159
        },
        "id": "DKT82U3sMXrn",
        "outputId": "a7617790-1a57-4131-a255-5c0c7783cb17"
      },
      "execution_count": 16,
      "outputs": [
        {
          "output_type": "error",
          "ename": "TypeError",
          "evalue": "'tuple' object does not support item assignment",
          "traceback": [
            "\u001b[0;31m---------------------------------------------------------------------------\u001b[0m",
            "\u001b[0;31mTypeError\u001b[0m                                 Traceback (most recent call last)",
            "\u001b[0;32m<ipython-input-16-c90597fd89f9>\u001b[0m in \u001b[0;36m<cell line: 2>\u001b[0;34m()\u001b[0m\n\u001b[1;32m      1\u001b[0m \u001b[0;31m# tuple is immutable\u001b[0m\u001b[0;34m\u001b[0m\u001b[0;34m\u001b[0m\u001b[0m\n\u001b[0;32m----> 2\u001b[0;31m \u001b[0mooty_trip\u001b[0m\u001b[0;34m[\u001b[0m\u001b[0;36m2\u001b[0m\u001b[0;34m]\u001b[0m  \u001b[0;34m=\u001b[0m \u001b[0;34m\"Doddabetta\"\u001b[0m\u001b[0;34m\u001b[0m\u001b[0;34m\u001b[0m\u001b[0m\n\u001b[0m",
            "\u001b[0;31mTypeError\u001b[0m: 'tuple' object does not support item assignment"
          ]
        }
      ]
    },
    {
      "cell_type": "markdown",
      "source": [
        "Tuples in Python are immutable, meaning that once a tuple is created,\n",
        "its elements cannot be changed. However, there are some workarounds to\n",
        " \"change\" values within a tuple by converting it to a mutable data type,\n",
        "  such as a list, making the change, and then converting it back to a\n",
        "  tuple."
      ],
      "metadata": {
        "id": "yT47MF89MXwX"
      }
    },
    {
      "cell_type": "markdown",
      "source": [
        "Evening: Combining Adventures"
      ],
      "metadata": {
        "id": "BuqYk9GlNQ24"
      }
    },
    {
      "cell_type": "markdown",
      "source": [
        "Concatenating Tuples"
      ],
      "metadata": {
        "id": "PleZaValNQ69"
      }
    },
    {
      "cell_type": "code",
      "source": [
        "combined_trip = ooty_trip + munnar_trip\n",
        "print(combined_trip)"
      ],
      "metadata": {
        "colab": {
          "base_uri": "https://localhost:8080/"
        },
        "id": "_rq9F8MKNQ_t",
        "outputId": "37d907a9-7783-4890-8d17-10fd6ffdb5c3"
      },
      "execution_count": 17,
      "outputs": [
        {
          "output_type": "stream",
          "name": "stdout",
          "text": [
            "('Ooty', '2024-1-1', 'Botanical Garden', 'munnar', '2024-06-06', 'Eravikulam National Park')\n"
          ]
        }
      ]
    },
    {
      "cell_type": "markdown",
      "source": [
        "# checking membership"
      ],
      "metadata": {
        "id": "XQR4tjI7NREf"
      }
    },
    {
      "cell_type": "code",
      "source": [
        "print(photo_album)"
      ],
      "metadata": {
        "colab": {
          "base_uri": "https://localhost:8080/"
        },
        "id": "UWOz7f_MMX0q",
        "outputId": "ca506c71-feed-4e89-fedf-8f2d911baf96"
      },
      "execution_count": 18,
      "outputs": [
        {
          "output_type": "stream",
          "name": "stdout",
          "text": [
            "[('Ooty', '2024-1-1', 'Botanical Garden'), ('munnar', '2024-06-06', 'Eravikulam National Park'), ('Manjolai', '2024-06-09', 'Hills station')]\n"
          ]
        }
      ]
    },
    {
      "cell_type": "code",
      "source": [
        "is_ooty_photo_present = ooty_trip in photo_album\n",
        "print(is_ooty_photo_present)"
      ],
      "metadata": {
        "colab": {
          "base_uri": "https://localhost:8080/"
        },
        "id": "G5yFzvLzKCxy",
        "outputId": "44c00b11-4a36-4c0d-e698-8edcf9292c2b"
      },
      "execution_count": 19,
      "outputs": [
        {
          "output_type": "stream",
          "name": "stdout",
          "text": [
            "True\n"
          ]
        }
      ]
    },
    {
      "cell_type": "code",
      "source": [
        "# finding length of the album\n",
        "print(len(photo_album))"
      ],
      "metadata": {
        "colab": {
          "base_uri": "https://localhost:8080/"
        },
        "id": "oEL19z7rN3Gg",
        "outputId": "95fbaf34-2075-449b-efe7-c1ecc6e12a36"
      },
      "execution_count": 20,
      "outputs": [
        {
          "output_type": "stream",
          "name": "stdout",
          "text": [
            "3\n"
          ]
        }
      ]
    },
    {
      "cell_type": "code",
      "source": [
        "for val in ooty_trip:\n",
        "  print(val)"
      ],
      "metadata": {
        "colab": {
          "base_uri": "https://localhost:8080/"
        },
        "id": "7QE0pZldN3MU",
        "outputId": "532b7a61-1b50-4cb1-d4c6-8fdf1f68cb6e"
      },
      "execution_count": 21,
      "outputs": [
        {
          "output_type": "stream",
          "name": "stdout",
          "text": [
            "Ooty\n",
            "2024-1-1\n",
            "Botanical Garden\n"
          ]
        }
      ]
    },
    {
      "cell_type": "code",
      "source": [
        "dir(ooty_trip)"
      ],
      "metadata": {
        "colab": {
          "base_uri": "https://localhost:8080/"
        },
        "id": "Mjmj9OAZN3Qe",
        "outputId": "f7d03efb-af4f-47d9-8e9a-82c97d3add4f"
      },
      "execution_count": 22,
      "outputs": [
        {
          "output_type": "execute_result",
          "data": {
            "text/plain": [
              "['__add__',\n",
              " '__class__',\n",
              " '__class_getitem__',\n",
              " '__contains__',\n",
              " '__delattr__',\n",
              " '__dir__',\n",
              " '__doc__',\n",
              " '__eq__',\n",
              " '__format__',\n",
              " '__ge__',\n",
              " '__getattribute__',\n",
              " '__getitem__',\n",
              " '__getnewargs__',\n",
              " '__gt__',\n",
              " '__hash__',\n",
              " '__init__',\n",
              " '__init_subclass__',\n",
              " '__iter__',\n",
              " '__le__',\n",
              " '__len__',\n",
              " '__lt__',\n",
              " '__mul__',\n",
              " '__ne__',\n",
              " '__new__',\n",
              " '__reduce__',\n",
              " '__reduce_ex__',\n",
              " '__repr__',\n",
              " '__rmul__',\n",
              " '__setattr__',\n",
              " '__sizeof__',\n",
              " '__str__',\n",
              " '__subclasshook__',\n",
              " 'count',\n",
              " 'index']"
            ]
          },
          "metadata": {},
          "execution_count": 22
        }
      ]
    },
    {
      "cell_type": "code",
      "source": [
        "# find dict methods\n",
        "d = {}\n",
        "dir(d)"
      ],
      "metadata": {
        "colab": {
          "base_uri": "https://localhost:8080/"
        },
        "id": "NNA5TwSyN3Vz",
        "outputId": "bb6653e7-22be-4d0c-d521-5429c1aa4ee9"
      },
      "execution_count": 23,
      "outputs": [
        {
          "output_type": "execute_result",
          "data": {
            "text/plain": [
              "['__class__',\n",
              " '__class_getitem__',\n",
              " '__contains__',\n",
              " '__delattr__',\n",
              " '__delitem__',\n",
              " '__dir__',\n",
              " '__doc__',\n",
              " '__eq__',\n",
              " '__format__',\n",
              " '__ge__',\n",
              " '__getattribute__',\n",
              " '__getitem__',\n",
              " '__gt__',\n",
              " '__hash__',\n",
              " '__init__',\n",
              " '__init_subclass__',\n",
              " '__ior__',\n",
              " '__iter__',\n",
              " '__le__',\n",
              " '__len__',\n",
              " '__lt__',\n",
              " '__ne__',\n",
              " '__new__',\n",
              " '__or__',\n",
              " '__reduce__',\n",
              " '__reduce_ex__',\n",
              " '__repr__',\n",
              " '__reversed__',\n",
              " '__ror__',\n",
              " '__setattr__',\n",
              " '__setitem__',\n",
              " '__sizeof__',\n",
              " '__str__',\n",
              " '__subclasshook__',\n",
              " 'clear',\n",
              " 'copy',\n",
              " 'fromkeys',\n",
              " 'get',\n",
              " 'items',\n",
              " 'keys',\n",
              " 'pop',\n",
              " 'popitem',\n",
              " 'setdefault',\n",
              " 'update',\n",
              " 'values']"
            ]
          },
          "metadata": {},
          "execution_count": 23
        }
      ]
    },
    {
      "cell_type": "code",
      "source": [
        "print(type(name))"
      ],
      "metadata": {
        "colab": {
          "base_uri": "https://localhost:8080/"
        },
        "id": "vDoNBo__Osdp",
        "outputId": "14a06359-8e43-4d31-f726-bf7ada511e79"
      },
      "execution_count": 24,
      "outputs": [
        {
          "output_type": "stream",
          "name": "stdout",
          "text": [
            "<class 'tuple'>\n"
          ]
        }
      ]
    },
    {
      "cell_type": "markdown",
      "source": [
        "SET"
      ],
      "metadata": {
        "id": "gXwHsdEMPTgz"
      }
    },
    {
      "cell_type": "markdown",
      "source": [
        "The botanical garden and rose garden : Understand SETs"
      ],
      "metadata": {
        "id": "0NwAlKjZPTmR"
      }
    },
    {
      "cell_type": "markdown",
      "source": [
        "Introduction to the Botanical Garden We are planning to\n",
        "opening a botanical garden with flowers which will\n",
        "attract people to visit.\n",
        "\n",
        "Morning: Planting Unique Flowers One morning, we decides\n",
        "to plant flowers in the garden. They ensure that each\n",
        "flower they plant is unique."
      ],
      "metadata": {
        "id": "h9v2zZ20PTrt"
      }
    },
    {
      "cell_type": "code",
      "source": [
        "botanical_garden = {\"Rose\", \"Hibiscus\", \"Lily\"}\n"
      ],
      "metadata": {
        "id": "t1ieJicwPTxZ"
      },
      "execution_count": 25,
      "outputs": []
    },
    {
      "cell_type": "code",
      "source": [
        "print(botanical_garden)"
      ],
      "metadata": {
        "colab": {
          "base_uri": "https://localhost:8080/"
        },
        "id": "Nm7mkG4zbwSz",
        "outputId": "b9211860-2ce0-40e7-b28f-9270bf5203a7"
      },
      "execution_count": 26,
      "outputs": [
        {
          "output_type": "stream",
          "name": "stdout",
          "text": [
            "{'Lily', 'Hibiscus', 'Rose'}\n"
          ]
        }
      ]
    },
    {
      "cell_type": "markdown",
      "source": [
        "Noon: Adding more flowers\n",
        "At noon, they find some more flowers and add them to the garden, making sure they only add flowers that aren't\n",
        "already there."
      ],
      "metadata": {
        "id": "slDOC2KsbwYE"
      }
    },
    {
      "cell_type": "code",
      "source": [
        "# add more flowers to the enchanted garden\n",
        "botanical_garden.add(\"Jasmine\")\n",
        "botanical_garden.add(\"Marigold\")\n",
        "\n",
        "print(botanical_garden)"
      ],
      "metadata": {
        "colab": {
          "base_uri": "https://localhost:8080/"
        },
        "id": "RChf4xhGbwc9",
        "outputId": "557022f6-c5dd-43bd-87c3-6419cddee9aa"
      },
      "execution_count": 27,
      "outputs": [
        {
          "output_type": "stream",
          "name": "stdout",
          "text": [
            "{'Marigold', 'Rose', 'Jasmine', 'Lily', 'Hibiscus'}\n"
          ]
        }
      ]
    },
    {
      "cell_type": "code",
      "source": [
        "print(type(botanical_garden))"
      ],
      "metadata": {
        "colab": {
          "base_uri": "https://localhost:8080/"
        },
        "id": "6pkImLdybwhh",
        "outputId": "9e9f6d03-1e4e-4d2b-9789-f2fa23f0a467"
      },
      "execution_count": 28,
      "outputs": [
        {
          "output_type": "stream",
          "name": "stdout",
          "text": [
            "<class 'set'>\n"
          ]
        }
      ]
    },
    {
      "cell_type": "code",
      "source": [
        "botanical_garden.add(\"Jasmine\")"
      ],
      "metadata": {
        "id": "_LEBNCVpbwl5"
      },
      "execution_count": 29,
      "outputs": []
    },
    {
      "cell_type": "code",
      "source": [
        "# duplicates are not allowed\n",
        "print(botanical_garden)"
      ],
      "metadata": {
        "colab": {
          "base_uri": "https://localhost:8080/"
        },
        "id": "UiUgIkW8bww2",
        "outputId": "e6d195d8-8a43-45f5-b114-2667e0cd698c"
      },
      "execution_count": 30,
      "outputs": [
        {
          "output_type": "stream",
          "name": "stdout",
          "text": [
            "{'Marigold', 'Rose', 'Jasmine', 'Lily', 'Hibiscus'}\n"
          ]
        }
      ]
    },
    {
      "cell_type": "code",
      "source": [
        "# Removing unwanted plants\n",
        "botanical_garden.remove(\"Lily\")\n",
        "print(botanical_garden)"
      ],
      "metadata": {
        "colab": {
          "base_uri": "https://localhost:8080/"
        },
        "id": "m_6cnBMmbw2W",
        "outputId": "2550c739-a90d-4c91-938c-00b4e82fe9c2"
      },
      "execution_count": 32,
      "outputs": [
        {
          "output_type": "stream",
          "name": "stdout",
          "text": [
            "{'Marigold', 'Rose', 'Jasmine', 'Hibiscus'}\n"
          ]
        }
      ]
    },
    {
      "cell_type": "code",
      "source": [
        "# elements are not available\n",
        "botanical_garden.remove(\"Lotus\")"
      ],
      "metadata": {
        "colab": {
          "base_uri": "https://localhost:8080/",
          "height": 159
        },
        "id": "XGwM77Z7cnWF",
        "outputId": "6c16e951-177f-49cb-eb74-6be770f01754"
      },
      "execution_count": 33,
      "outputs": [
        {
          "output_type": "error",
          "ename": "KeyError",
          "evalue": "'Lotus'",
          "traceback": [
            "\u001b[0;31m---------------------------------------------------------------------------\u001b[0m",
            "\u001b[0;31mKeyError\u001b[0m                                  Traceback (most recent call last)",
            "\u001b[0;32m<ipython-input-33-93bef6edc1a7>\u001b[0m in \u001b[0;36m<cell line: 2>\u001b[0;34m()\u001b[0m\n\u001b[1;32m      1\u001b[0m \u001b[0;31m# elements are not available\u001b[0m\u001b[0;34m\u001b[0m\u001b[0;34m\u001b[0m\u001b[0m\n\u001b[0;32m----> 2\u001b[0;31m \u001b[0mbotanical_garden\u001b[0m\u001b[0;34m.\u001b[0m\u001b[0mremove\u001b[0m\u001b[0;34m(\u001b[0m\u001b[0;34m\"Lotus\"\u001b[0m\u001b[0;34m)\u001b[0m\u001b[0;34m\u001b[0m\u001b[0;34m\u001b[0m\u001b[0m\n\u001b[0m",
            "\u001b[0;31mKeyError\u001b[0m: 'Lotus'"
          ]
        }
      ]
    },
    {
      "cell_type": "markdown",
      "source": [
        "Night: Checking flower types"
      ],
      "metadata": {
        "id": "b6mzbPmrcnbS"
      }
    },
    {
      "cell_type": "code",
      "source": [
        "# checking flower membership\n",
        "\n",
        "is_lotus_in_botanical_garden = \"Lotus\" in botanical_garden\n",
        "print(is_lotus_in_botanical_garden)"
      ],
      "metadata": {
        "colab": {
          "base_uri": "https://localhost:8080/"
        },
        "id": "1eKkHyBvdDPX",
        "outputId": "e792924e-015a-4522-9123-4b5609df64e4"
      },
      "execution_count": 35,
      "outputs": [
        {
          "output_type": "stream",
          "name": "stdout",
          "text": [
            "False\n"
          ]
        }
      ]
    },
    {
      "cell_type": "code",
      "source": [
        "is_lotus_in_botanical_garden = \"Rose\" in botanical_garden\n",
        "print(is_lotus_in_botanical_garden)"
      ],
      "metadata": {
        "colab": {
          "base_uri": "https://localhost:8080/"
        },
        "id": "jZ6VBfcudDV5",
        "outputId": "9c956d08-a5fa-45c1-c47a-64805e015707"
      },
      "execution_count": 36,
      "outputs": [
        {
          "output_type": "stream",
          "name": "stdout",
          "text": [
            "True\n"
          ]
        }
      ]
    },
    {
      "cell_type": "markdown",
      "source": [
        "Comparing with Rose garden"
      ],
      "metadata": {
        "id": "tceAHeACdDbu"
      }
    },
    {
      "cell_type": "code",
      "source": [
        "# neighbor's rose garden\n",
        "rose_garden = {\"Rose\", \"Jasmine\", \"Lotus\"}\n",
        "print(rose_garden)"
      ],
      "metadata": {
        "colab": {
          "base_uri": "https://localhost:8080/"
        },
        "id": "RK3PVbNNcnjG",
        "outputId": "86e26f5c-d523-41e6-ef10-0673477e6222"
      },
      "execution_count": 37,
      "outputs": [
        {
          "output_type": "stream",
          "name": "stdout",
          "text": [
            "{'Lotus', 'Rose', 'Jasmine'}\n"
          ]
        }
      ]
    },
    {
      "cell_type": "code",
      "source": [
        "print(botanical_garden)"
      ],
      "metadata": {
        "colab": {
          "base_uri": "https://localhost:8080/"
        },
        "id": "z_Bouq7keUJC",
        "outputId": "1a8e587e-4560-4f1f-f755-464117ff54b1"
      },
      "execution_count": 38,
      "outputs": [
        {
          "output_type": "stream",
          "name": "stdout",
          "text": [
            "{'Marigold', 'Rose', 'Jasmine', 'Hibiscus'}\n"
          ]
        }
      ]
    },
    {
      "cell_type": "code",
      "source": [
        "common_flowers = rose_garden.intersection(botanical_garden)\n",
        "print(common_flowers)"
      ],
      "metadata": {
        "colab": {
          "base_uri": "https://localhost:8080/"
        },
        "id": "7e98H9DPeUQ-",
        "outputId": "627541c7-0480-4f21-fb21-30c7081e3055"
      },
      "execution_count": 40,
      "outputs": [
        {
          "output_type": "stream",
          "name": "stdout",
          "text": [
            "{'Rose', 'Jasmine'}\n"
          ]
        }
      ]
    },
    {
      "cell_type": "code",
      "source": [
        "# flowers unique to their garden\n",
        "\n",
        "flowers_different = botanical_garden.difference(rose_garden)\n",
        "print(flowers_different)"
      ],
      "metadata": {
        "colab": {
          "base_uri": "https://localhost:8080/"
        },
        "id": "daPybg-jeUXD",
        "outputId": "8c1310e1-d3b0-4d83-f95f-f640b502d760"
      },
      "execution_count": 41,
      "outputs": [
        {
          "output_type": "stream",
          "name": "stdout",
          "text": [
            "{'Hibiscus', 'Marigold'}\n"
          ]
        }
      ]
    },
    {
      "cell_type": "code",
      "source": [
        "# all unique flowers from the both garden\n",
        "all_flowers = botanical_garden.union(rose_garden)\n",
        "print(all_flowers)"
      ],
      "metadata": {
        "colab": {
          "base_uri": "https://localhost:8080/"
        },
        "id": "u4xouHdZeUdZ",
        "outputId": "a41d9731-396c-4271-da07-f0928f71e38a"
      },
      "execution_count": 45,
      "outputs": [
        {
          "output_type": "stream",
          "name": "stdout",
          "text": [
            "{'Lotus', 'Rose', 'Jasmine', 'Marigold', 'Hibiscus'}\n"
          ]
        }
      ]
    },
    {
      "cell_type": "code",
      "source": [
        "loki_garden = {\"rose\", \"jasmine\"}\n",
        "if \"rose\" in loki_garden:\n",
        "  loki_garden.remove(\"rose\")\n",
        "\n",
        "print(loki_garden)"
      ],
      "metadata": {
        "colab": {
          "base_uri": "https://localhost:8080/"
        },
        "id": "bU0GdgS1fcWj",
        "outputId": "564d8718-7236-4573-c939-b9d44c5b3762"
      },
      "execution_count": 46,
      "outputs": [
        {
          "output_type": "stream",
          "name": "stdout",
          "text": [
            "{'jasmine'}\n"
          ]
        }
      ]
    },
    {
      "cell_type": "code",
      "source": [],
      "metadata": {
        "id": "poKbF6LSfccn"
      },
      "execution_count": null,
      "outputs": []
    },
    {
      "cell_type": "code",
      "source": [],
      "metadata": {
        "id": "TMy9t88mfciu"
      },
      "execution_count": null,
      "outputs": []
    },
    {
      "cell_type": "code",
      "source": [],
      "metadata": {
        "id": "rE04VWoMfcp4"
      },
      "execution_count": null,
      "outputs": []
    }
  ]
}