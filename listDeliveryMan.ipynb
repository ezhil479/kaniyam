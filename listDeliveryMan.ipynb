{
  "nbformat": 4,
  "nbformat_minor": 0,
  "metadata": {
    "colab": {
      "provenance": [],
      "authorship_tag": "ABX9TyPjmuiDzdX0vzXIKTXOEt+O",
      "include_colab_link": true
    },
    "kernelspec": {
      "name": "python3",
      "display_name": "Python 3"
    },
    "language_info": {
      "name": "python"
    }
  },
  "cells": [
    {
      "cell_type": "markdown",
      "metadata": {
        "id": "view-in-github",
        "colab_type": "text"
      },
      "source": [
        "<a href=\"https://colab.research.google.com/github/ezhil479/kaniyam/blob/main/listDeliveryMan.ipynb\" target=\"_parent\"><img src=\"https://colab.research.google.com/assets/colab-badge.svg\" alt=\"Open In Colab\"/></a>"
      ]
    },
    {
      "cell_type": "code",
      "execution_count": null,
      "metadata": {
        "id": "MvZS7ba0Y-QG"
      },
      "outputs": [],
      "source": [
        "# List\n",
        "# New delivery Request\n"
      ]
    },
    {
      "cell_type": "code",
      "source": [
        "packages = [\"letter\",\"box\",\"parcel\"]\n",
        "print(packages)"
      ],
      "metadata": {
        "colab": {
          "base_uri": "https://localhost:8080/"
        },
        "id": "CSAazv03bYw9",
        "outputId": "6f561915-b08d-4caf-e39d-54e58f98a985"
      },
      "execution_count": 1,
      "outputs": [
        {
          "output_type": "stream",
          "name": "stdout",
          "text": [
            "['letter', 'box', 'parcel']\n"
          ]
        }
      ]
    },
    {
      "cell_type": "code",
      "source": [
        "packages[1]"
      ],
      "metadata": {
        "colab": {
          "base_uri": "https://localhost:8080/",
          "height": 35
        },
        "id": "AMR5CrFNbY1L",
        "outputId": "7ff60642-68f3-45af-d46f-d15d4f2466d2"
      },
      "execution_count": 3,
      "outputs": [
        {
          "output_type": "execute_result",
          "data": {
            "text/plain": [
              "'box'"
            ],
            "application/vnd.google.colaboratory.intrinsic+json": {
              "type": "string"
            }
          },
          "metadata": {},
          "execution_count": 3
        }
      ]
    },
    {
      "cell_type": "code",
      "source": [
        "packages.append(\"Special Delivery\")\n",
        "packages"
      ],
      "metadata": {
        "colab": {
          "base_uri": "https://localhost:8080/"
        },
        "id": "QKr-kNe3bY5q",
        "outputId": "213eb2b8-0566-4638-fa4c-98e946745430"
      },
      "execution_count": 6,
      "outputs": [
        {
          "output_type": "execute_result",
          "data": {
            "text/plain": [
              "['letter', 'box', 'parcel', 'Special Delivery', 'Special Delivery']"
            ]
          },
          "metadata": {},
          "execution_count": 6
        }
      ]
    },
    {
      "cell_type": "code",
      "source": [
        "packages.pop()\n",
        "print(packages)"
      ],
      "metadata": {
        "colab": {
          "base_uri": "https://localhost:8080/"
        },
        "id": "mcJxnSKmbY9s",
        "outputId": "b700ed90-2a73-44fd-cbf3-2bf44b024a3e"
      },
      "execution_count": 7,
      "outputs": [
        {
          "output_type": "stream",
          "name": "stdout",
          "text": [
            "['letter', 'box', 'parcel', 'Special Delivery']\n"
          ]
        }
      ]
    },
    {
      "cell_type": "code",
      "source": [
        "# fragile box\n",
        "\n",
        "packages.insert(2,\"Glass Bottle\")\n",
        "packages"
      ],
      "metadata": {
        "colab": {
          "base_uri": "https://localhost:8080/"
        },
        "id": "GFEmaXh2bZBf",
        "outputId": "9717bed3-c626-44ad-a28c-1dd27aa8fb44"
      },
      "execution_count": 10,
      "outputs": [
        {
          "output_type": "execute_result",
          "data": {
            "text/plain": [
              "['letter', 'box', 'Glass Bottle', 'parcel', 'Special Delivery']"
            ]
          },
          "metadata": {},
          "execution_count": 10
        }
      ]
    },
    {
      "cell_type": "code",
      "source": [
        "packages.remove(\"box\")\n",
        "packages"
      ],
      "metadata": {
        "colab": {
          "base_uri": "https://localhost:8080/"
        },
        "id": "f4ZAR0jpfU7f",
        "outputId": "dd144799-9ec8-4b43-c36f-4f2ee12f3a88"
      },
      "execution_count": 11,
      "outputs": [
        {
          "output_type": "execute_result",
          "data": {
            "text/plain": [
              "['letter', 'Glass Bottle', 'parcel', 'Special Delivery']"
            ]
          },
          "metadata": {},
          "execution_count": 11
        }
      ]
    },
    {
      "cell_type": "code",
      "source": [
        "packages.pop()\n",
        "packages"
      ],
      "metadata": {
        "colab": {
          "base_uri": "https://localhost:8080/"
        },
        "id": "L5KZOYXRfVOH",
        "outputId": "9857b7c6-b49f-47c1-a428-cf23506b433e"
      },
      "execution_count": 12,
      "outputs": [
        {
          "output_type": "execute_result",
          "data": {
            "text/plain": [
              "['letter', 'Glass Bottle', 'parcel']"
            ]
          },
          "metadata": {},
          "execution_count": 12
        }
      ]
    },
    {
      "cell_type": "code",
      "source": [
        "packages.index(\"parcel\")\n"
      ],
      "metadata": {
        "colab": {
          "base_uri": "https://localhost:8080/"
        },
        "id": "XWwBTe0mfVSL",
        "outputId": "23ff3fd0-3d84-4471-d4e0-707077726c31"
      },
      "execution_count": 13,
      "outputs": [
        {
          "output_type": "execute_result",
          "data": {
            "text/plain": [
              "2"
            ]
          },
          "metadata": {},
          "execution_count": 13
        }
      ]
    },
    {
      "cell_type": "code",
      "source": [
        "packages[0:2]"
      ],
      "metadata": {
        "colab": {
          "base_uri": "https://localhost:8080/"
        },
        "id": "kHkLqP5bfVWM",
        "outputId": "12ffb2e9-fe94-4f39-ff01-5c562ac5ec77"
      },
      "execution_count": 14,
      "outputs": [
        {
          "output_type": "execute_result",
          "data": {
            "text/plain": [
              "['letter', 'Glass Bottle']"
            ]
          },
          "metadata": {},
          "execution_count": 14
        }
      ]
    },
    {
      "cell_type": "code",
      "source": [
        "packages.sort()\n",
        "packages"
      ],
      "metadata": {
        "colab": {
          "base_uri": "https://localhost:8080/"
        },
        "id": "bVKDgu4ymJFv",
        "outputId": "32bda3ec-2e35-4f9d-d8d8-301ec8586f30"
      },
      "execution_count": 17,
      "outputs": [
        {
          "output_type": "execute_result",
          "data": {
            "text/plain": [
              "['Glass Bottle', 'letter', 'parcel']"
            ]
          },
          "metadata": {},
          "execution_count": 17
        }
      ]
    },
    {
      "cell_type": "code",
      "source": [
        "packages.reverse()\n",
        "packages"
      ],
      "metadata": {
        "colab": {
          "base_uri": "https://localhost:8080/"
        },
        "id": "dLblMk6BmJUR",
        "outputId": "15756e6d-174c-47aa-ef0b-6c5565de0e06"
      },
      "execution_count": 18,
      "outputs": [
        {
          "output_type": "execute_result",
          "data": {
            "text/plain": [
              "['parcel', 'letter', 'Glass Bottle']"
            ]
          },
          "metadata": {},
          "execution_count": 18
        }
      ]
    },
    {
      "cell_type": "code",
      "source": [
        "# ex\n",
        "list1_package=[\"deliver box\",\"letter\", \"box\",\"apple\"]\n",
        "print(list1_package[-1:0:-1])\n"
      ],
      "metadata": {
        "colab": {
          "base_uri": "https://localhost:8080/"
        },
        "id": "tKz94m0AmJYy",
        "outputId": "16ee689c-b0b3-4608-cc3f-14ed324a6e3c"
      },
      "execution_count": 26,
      "outputs": [
        {
          "output_type": "stream",
          "name": "stdout",
          "text": [
            "['apple', 'box', 'letter']\n"
          ]
        }
      ]
    },
    {
      "cell_type": "code",
      "source": [],
      "metadata": {
        "id": "T2YcC_zxmJdH"
      },
      "execution_count": null,
      "outputs": []
    },
    {
      "cell_type": "code",
      "source": [],
      "metadata": {
        "id": "8hHmkKesmJha"
      },
      "execution_count": null,
      "outputs": []
    }
  ]
}