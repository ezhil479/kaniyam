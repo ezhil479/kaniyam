{
  "nbformat": 4,
  "nbformat_minor": 0,
  "metadata": {
    "colab": {
      "provenance": [],
      "authorship_tag": "ABX9TyNoCk3tegAuoQW+580fxZb+",
      "include_colab_link": true
    },
    "kernelspec": {
      "name": "python3",
      "display_name": "Python 3"
    },
    "language_info": {
      "name": "python"
    }
  },
  "cells": [
    {
      "cell_type": "markdown",
      "metadata": {
        "id": "view-in-github",
        "colab_type": "text"
      },
      "source": [
        "<a href=\"https://colab.research.google.com/github/ezhil479/kaniyam/blob/main/KaniyamDict.ipynb\" target=\"_parent\"><img src=\"https://colab.research.google.com/assets/colab-badge.svg\" alt=\"Open In Colab\"/></a>"
      ]
    },
    {
      "cell_type": "code",
      "execution_count": 1,
      "metadata": {
        "colab": {
          "base_uri": "https://localhost:8080/"
        },
        "id": "Yn-aZmL7qBkc",
        "outputId": "1131c914-cb15-4ae2-9551-c2240ea51b1e"
      },
      "outputs": [
        {
          "output_type": "stream",
          "name": "stdout",
          "text": [
            "Initial inventory:  {'apples': 20, 'bananas': 30, 'carrot': 15, 'milk': 10}\n"
          ]
        }
      ],
      "source": [
        "# Shop\n",
        "# apples 20, bananas 30, carrot 15, milk 10\n",
        "# Initial delivery of the Items to store\n",
        "inventory = {\n",
        "    \"apples\" : 20,\n",
        "    \"bananas\": 30,\n",
        "    \"carrot\": 15,\n",
        "    \"milk\": 10\n",
        "}\n",
        "\n",
        "print(\"Initial inventory: \",inventory)"
      ]
    },
    {
      "cell_type": "code",
      "source": [
        "# Additional deliveries\n",
        "inventory[\"bread\"] = 25\n",
        "inventory[\"egg\"] = 10\n",
        "\n",
        "print(\"Updated inventory: \",inventory)"
      ],
      "metadata": {
        "colab": {
          "base_uri": "https://localhost:8080/"
        },
        "id": "4sFmgSSFqaxo",
        "outputId": "8bd663b1-9093-4b05-cd96-088c05546267"
      },
      "execution_count": 2,
      "outputs": [
        {
          "output_type": "stream",
          "name": "stdout",
          "text": [
            "Updated inventory:  {'apples': 20, 'bananas': 30, 'carrot': 15, 'milk': 10, 'bread': 25, 'egg': 10}\n"
          ]
        }
      ]
    },
    {
      "cell_type": "code",
      "source": [
        "# Noon additional deliveries\n",
        "# update item quantities\n",
        "inventory['apples'] =  inventory['apples'] + 5\n",
        "inventory['milk'] =  inventory['milk'] + 5\n",
        "\n",
        "print(\"After restocking: \", inventory)"
      ],
      "metadata": {
        "colab": {
          "base_uri": "https://localhost:8080/"
        },
        "id": "CT4vogvbqa8a",
        "outputId": "0f6b31af-f8a3-48db-b5a3-217126c5f6e7"
      },
      "execution_count": 9,
      "outputs": [
        {
          "output_type": "stream",
          "name": "stdout",
          "text": [
            "After restocking:  {'apples': 30, 'bananas': 30, 'carrot': 15, 'milk': 20, 'bread': 25, 'egg': 10}\n"
          ]
        }
      ]
    },
    {
      "cell_type": "code",
      "source": [
        "# Evening : Removing Sold-Out Items\n",
        "# some items are sold out\n",
        "\n",
        "del inventory['carrot']\n",
        "\n",
        "print(\"after removing carrots: \", inventory)"
      ],
      "metadata": {
        "colab": {
          "base_uri": "https://localhost:8080/"
        },
        "id": "2q1sUuz9qbCK",
        "outputId": "048cb36d-be79-4d3e-fc42-502534b56eb1"
      },
      "execution_count": 10,
      "outputs": [
        {
          "output_type": "stream",
          "name": "stdout",
          "text": [
            "after removing carrots:  {'apples': 30, 'bananas': 30, 'milk': 20, 'bread': 25, 'egg': 10}\n"
          ]
        }
      ]
    },
    {
      "cell_type": "code",
      "source": [
        "# Night checking inventory\n",
        "\n",
        "# before closing store, check all items are accurately or missed\n",
        "is_bananas_in_inventory = 'bananas' in inventory\n",
        "print(\"is bananas in inventory\",is_bananas_in_inventory)"
      ],
      "metadata": {
        "colab": {
          "base_uri": "https://localhost:8080/"
        },
        "id": "p9D9jlhVqbHS",
        "outputId": "45b60951-1482-42a2-d3ec-90ed19998c02"
      },
      "execution_count": 15,
      "outputs": [
        {
          "output_type": "stream",
          "name": "stdout",
          "text": [
            "is bananas in inventory True\n"
          ]
        }
      ]
    },
    {
      "cell_type": "code",
      "source": [
        "is_ornage_in_inventory = 'orange' in inventory\n",
        "print(is_ornage_in_inventory)"
      ],
      "metadata": {
        "colab": {
          "base_uri": "https://localhost:8080/"
        },
        "id": "An4g_qELqbPk",
        "outputId": "bc8f0e47-f7cd-4329-b947-c7a451abf479"
      },
      "execution_count": 16,
      "outputs": [
        {
          "output_type": "stream",
          "name": "stdout",
          "text": [
            "False\n"
          ]
        }
      ]
    },
    {
      "cell_type": "code",
      "source": [
        "# Reviewing the final inventory - iterating\n",
        "for product, product_count in inventory.items():\n",
        "  print(\"product \", product, \" is \", product_count)"
      ],
      "metadata": {
        "colab": {
          "base_uri": "https://localhost:8080/"
        },
        "id": "uTOHlgERqbVR",
        "outputId": "dc0894ea-f48f-4f73-e4d3-29b20fd14c2f"
      },
      "execution_count": 19,
      "outputs": [
        {
          "output_type": "stream",
          "name": "stdout",
          "text": [
            "product  apples  is  30\n",
            "product  bananas  is  30\n",
            "product  milk  is  20\n",
            "product  bread  is  25\n",
            "product  egg  is  10\n"
          ]
        }
      ]
    },
    {
      "cell_type": "code",
      "source": [
        "len(inventory)"
      ],
      "metadata": {
        "colab": {
          "base_uri": "https://localhost:8080/"
        },
        "id": "6QAaDrH7qbZk",
        "outputId": "da5a34ca-31f7-4634-950f-dea054264bcc"
      },
      "execution_count": 18,
      "outputs": [
        {
          "output_type": "execute_result",
          "data": {
            "text/plain": [
              "5"
            ]
          },
          "metadata": {},
          "execution_count": 18
        }
      ]
    },
    {
      "cell_type": "code",
      "source": [],
      "metadata": {
        "id": "LnH61pUWqbd3"
      },
      "execution_count": null,
      "outputs": []
    },
    {
      "cell_type": "code",
      "source": [],
      "metadata": {
        "id": "QR_VePOUqbik"
      },
      "execution_count": null,
      "outputs": []
    },
    {
      "cell_type": "code",
      "source": [],
      "metadata": {
        "id": "X6V6LBa_qbmm"
      },
      "execution_count": null,
      "outputs": []
    },
    {
      "cell_type": "code",
      "source": [],
      "metadata": {
        "id": "vBM4fkwRqbqp"
      },
      "execution_count": null,
      "outputs": []
    },
    {
      "cell_type": "code",
      "source": [],
      "metadata": {
        "id": "4B6-JXRdqbvs"
      },
      "execution_count": null,
      "outputs": []
    },
    {
      "cell_type": "code",
      "source": [],
      "metadata": {
        "id": "nS2AG_mbqbzs"
      },
      "execution_count": null,
      "outputs": []
    },
    {
      "cell_type": "code",
      "source": [],
      "metadata": {
        "id": "R4eeJkeBqb3w"
      },
      "execution_count": null,
      "outputs": []
    }
  ]
}